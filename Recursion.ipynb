{
 "cells": [
  {
   "cell_type": "code",
   "execution_count": 19,
   "metadata": {
    "collapsed": true
   },
   "outputs": [],
   "source": [
    "def super_digit(n):\n",
    "    # YOUR CODE HERE\n",
    "    if len(str(n)) == 1:\n",
    "        return n\n",
    "    else:\n",
    "        s=0\n",
    "        v = str(n)\n",
    "        for d in v:\n",
    "            s+= int(d)\n",
    "        return super_digit(s)\n",
    "            \n",
    "        \n",
    "        "
   ]
  },
  {
   "cell_type": "code",
   "execution_count": 21,
   "metadata": {
    "collapsed": true
   },
   "outputs": [],
   "source": [
    "# (5 points)\n",
    "\n",
    "from unittest import TestCase\n",
    "\n",
    "tc = TestCase()\n",
    "\n",
    "tc.assertEqual(super_digit(5), 5)\n",
    "tc.assertEqual(super_digit(30), 3)\n",
    "tc.assertEqual(super_digit(9876), 3)\n",
    "tc.assertEqual(super_digit(11111111111111), 5)\n",
    "tc.assertEqual(super_digit(12345678901234567890), 9)"
   ]
  },
  {
   "cell_type": "code",
   "execution_count": 25,
   "metadata": {
    "collapsed": true
   },
   "outputs": [],
   "source": [
    "def pascal(row, column):\n",
    "    # YOUR CODE HERE\n",
    "    if column == 0 or row == column:\n",
    "        return 1\n",
    "    else:\n",
    "        return pascal(row-1,column-1)+pascal(row-1,column)"
   ]
  },
  {
   "cell_type": "code",
   "execution_count": 27,
   "metadata": {
    "collapsed": false
   },
   "outputs": [
    {
     "name": "stdout",
     "output_type": "stream",
     "text": [
      "                      1                      \n",
      "                     1 1                     \n",
      "                    1 2 1                    \n",
      "                   1 3 3 1                   \n",
      "                  1 4 6 4 1                  \n",
      "                1 5 10 10 5 1                \n",
      "              1 6 15 20 15 6 1               \n",
      "             1 7 21 35 35 21 7 1             \n",
      "           1 8 28 56 70 56 28 8 1            \n",
      "         1 9 36 84 126 126 84 36 9 1         \n"
     ]
    }
   ],
   "source": [
    "# generate the first 10 rows of Pascal's Triangle\n",
    "for row in range(10):\n",
    "    print('{: ^45}'.format(' '.join(str(pascal(row, col)) for col in range(row+1))))"
   ]
  },
  {
   "cell_type": "code",
   "execution_count": 29,
   "metadata": {
    "collapsed": true
   },
   "outputs": [],
   "source": [
    "# (5 points)\n",
    "\n",
    "from unittest import TestCase\n",
    "\n",
    "tc = TestCase()\n",
    "\n",
    "tc.assertEqual(pascal(0, 0), 1)\n",
    "tc.assertEqual(pascal(1, 0), 1)\n",
    "tc.assertEqual(pascal(2, 1), 2)\n",
    "tc.assertEqual(pascal(5, 1), 5)\n",
    "tc.assertEqual(pascal(5, 2), 10)\n",
    "tc.assertEqual(pascal(10, 5), 252)"
   ]
  },
  {
   "cell_type": "code",
   "execution_count": 30,
   "metadata": {
    "collapsed": false
   },
   "outputs": [
    {
     "data": {
      "text/plain": [
       "3"
      ]
     },
     "execution_count": 30,
     "metadata": {},
     "output_type": "execute_result"
    }
   ],
   "source": [
    "super_digit(30)"
   ]
  },
  {
   "cell_type": "code",
   "execution_count": 31,
   "metadata": {
    "collapsed": false
   },
   "outputs": [
    {
     "data": {
      "text/plain": [
       "20"
      ]
     },
     "execution_count": 31,
     "metadata": {},
     "output_type": "execute_result"
    }
   ],
   "source": [
    "v = '389'\n",
    "s=0\n",
    "for d in v:\n",
    "    s+=int(d)\n",
    "s"
   ]
  },
  {
   "cell_type": "code",
   "execution_count": 1,
   "metadata": {
    "collapsed": true
   },
   "outputs": [],
   "source": [
    "def subsets(nums):\n",
    "  if nums is None: return None\n",
    "  subsets = [[]] \n",
    "  next = [] \n",
    "  for n in nums:\n",
    "    for s in subsets:\n",
    "      next.append(s + [n])\n",
    "    for i in next:\n",
    "        s = 1\n",
    "        for j in i:\n",
    "            s*=j\n",
    "        if s == 24:\n",
    "            return True\n",
    "            \n",
    "    subsets += next\n",
    "    next = []\n",
    "  return subsets"
   ]
  },
  {
   "cell_type": "code",
   "execution_count": 71,
   "metadata": {
    "collapsed": false
   },
   "outputs": [
    {
     "data": {
      "text/plain": [
       "True"
      ]
     },
     "execution_count": 71,
     "metadata": {},
     "output_type": "execute_result"
    }
   ],
   "source": [
    "subsets([2,3,4,5])"
   ]
  },
  {
   "cell_type": "code",
   "execution_count": 2,
   "metadata": {
    "collapsed": true
   },
   "outputs": [],
   "source": [
    "def can_make_product(p, vals):\n",
    "    # YOUR CODE HERE\n",
    "  if vals is None: return None\n",
    "  subsets = [[]] \n",
    "  next = [] \n",
    "  for n in vals:\n",
    "    for s in subsets:\n",
    "      next.append(s + [n])\n",
    "    for i in next:\n",
    "        s = 1\n",
    "        for j in i:\n",
    "            s*=j\n",
    "        if s == p:\n",
    "            return True       \n",
    "    subsets += next\n",
    "    next = []\n",
    "  return False"
   ]
  },
  {
   "cell_type": "code",
   "execution_count": 3,
   "metadata": {
    "collapsed": true
   },
   "outputs": [],
   "source": [
    "# (5 points)\n",
    "\n",
    "from unittest import TestCase\n",
    "\n",
    "tc = TestCase()\n",
    "\n",
    "tc.assertTrue(can_make_product(10, [2, 5]))\n",
    "tc.assertTrue(can_make_product(10, [2, 3, 4, 5]))\n",
    "tc.assertTrue(can_make_product(10, [3, 4, 2, 5]))\n",
    "tc.assertTrue(can_make_product(10, [10]))\n",
    "tc.assertTrue(can_make_product(81, [2, 2, 3, 3, 4, 9]))\n",
    "tc.assertTrue(can_make_product(66402, [2, 4, 5, 12, 17, 25, 31, 63]))\n",
    "tc.assertFalse(can_make_product(10, [2, 2, 2, 4]))\n",
    "tc.assertFalse(can_make_product(243, [2, 2, 3, 3, 3, 4, 4, 4]))\n",
    "tc.assertFalse(can_make_product(81, [2, 3, 5, 9, 11]))\n",
    "tc.assertFalse(can_make_product(100, [3, 4, 5, 8, 10]))\n",
    "tc.assertFalse(can_make_product(12369, [3, 4, 5, 8, 19, 20, 31]))"
   ]
  },
  {
   "cell_type": "code",
   "execution_count": 38,
   "metadata": {
    "collapsed": false
   },
   "outputs": [
    {
     "name": "stdout",
     "output_type": "stream",
     "text": [
      "[2]\n"
     ]
    }
   ],
   "source": [
    "subsets=[[]]\n",
    "for s in subsets:\n",
    "    print(s+[2])"
   ]
  },
  {
   "cell_type": "code",
   "execution_count": 52,
   "metadata": {
    "collapsed": false
   },
   "outputs": [
    {
     "data": {
      "text/plain": [
       "6"
      ]
     },
     "execution_count": 52,
     "metadata": {},
     "output_type": "execute_result"
    }
   ],
   "source": [
    "l = [[2,3]]\n",
    "s = 1\n",
    "for i in l:\n",
    "    for j in i:\n",
    "        s*=j\n",
    "s"
   ]
  },
  {
   "cell_type": "code",
   "execution_count": 84,
   "metadata": {
    "collapsed": true
   },
   "outputs": [],
   "source": [
    "def number_ties(blocks, for_votes=0, against_votes=0): \n",
    "    if not blocks and for_votes==against_votes: \n",
    "        return 1 \n",
    "    elif not blocks: \n",
    "        return 0 \n",
    "    else: \n",
    "        num = blocks[0]\n",
    "        return number_ties(blocks[1:],for_votes+num,against_votes) + number_ties(blocks[1:],for_votes,against_votes+num)"
   ]
  },
  {
   "cell_type": "code",
   "execution_count": 87,
   "metadata": {
    "collapsed": false
   },
   "outputs": [
    {
     "data": {
      "text/plain": [
       "2"
      ]
     },
     "execution_count": 87,
     "metadata": {},
     "output_type": "execute_result"
    }
   ],
   "source": [
    "number_ties([1, 2, 3])"
   ]
  },
  {
   "cell_type": "code",
   "execution_count": 88,
   "metadata": {
    "collapsed": false
   },
   "outputs": [
    {
     "data": {
      "text/plain": [
       "[]"
      ]
     },
     "execution_count": 88,
     "metadata": {},
     "output_type": "execute_result"
    }
   ],
   "source": [
    "l=[3]\n",
    "l[1:]"
   ]
  },
  {
   "cell_type": "code",
   "execution_count": 86,
   "metadata": {
    "collapsed": true
   },
   "outputs": [],
   "source": [
    "# (5 points)\n",
    "\n",
    "from unittest import TestCase\n",
    "\n",
    "tc = TestCase()\n",
    "\n",
    "tc.assertEqual(number_ties([1, 2, 3]), 2)\n",
    "tc.assertEqual(number_ties([1, 1, 2, 3, 5]), 4)\n",
    "tc.assertEqual(number_ties([4, 5, 6, 7, 8, 9]), 0)\n",
    "tc.assertEqual(number_ties([10, 15, 9, 4, 4, 8, 12, 8]), 10)\n",
    "tc.assertEqual(number_ties([17, 10, 9, 9, 10, 10, 7, 12, 17, 13, 14, 9, 16, 16, 5]), 554)\n",
    "tc.assertEqual(number_ties([16, 17, 17, 30, 15, 27, 22, 20, 33, 33, 26, 22, 27, 19, 15, 16, 25, 25, 19, 18]), 8040)"
   ]
  },
  {
   "cell_type": "code",
   "execution_count": 4,
   "metadata": {
    "collapsed": true
   },
   "outputs": [],
   "source": [
    "def deciding_votes_per_block(blocks):\n",
    "    # YOUR CODE HERE\n",
    "    def deciding_votes_rec(blocks,for_votes,against_votes):\n",
    "        l = []\n",
    "        if for_votes < against_votes:\n",
    "            for_votes+blocks[0]\n",
    "            if for_votes > against_votes or for_votes == against_votes:\n",
    "                return 1\n",
    "        elif for_votes > against_votes:\n",
    "            against_votes+blocks[0]\n",
    "            if against_votes > for_votes or for_votes == against_votes:\n",
    "                return 1\n",
    "        else:\n",
    "            num = blocks[0]\n",
    "            case = deciding_votes_rec(blocks[1:],for_votes+num,against_votes)+deciding_votes_rec(blocks[1:],for_votes+num,against_votes)\n",
    "            l.add(case)\n",
    "            return l\n",
    "    \n",
    "    \n",
    "    \n",
    "    \n",
    "    return deciding_votes_rec(blocks,for_votes=0,against_votes=0)\n",
    "        "
   ]
  },
  {
   "cell_type": "code",
   "execution_count": 5,
   "metadata": {
    "collapsed": false
   },
   "outputs": [
    {
     "ename": "TypeError",
     "evalue": "unsupported operand type(s) for +: 'NoneType' and 'NoneType'",
     "output_type": "error",
     "traceback": [
      "\u001b[0;31m---------------------------------------------------------------------------\u001b[0m",
      "\u001b[0;31mTypeError\u001b[0m                                 Traceback (most recent call last)",
      "\u001b[0;32m<ipython-input-5-d468838e357e>\u001b[0m in \u001b[0;36m<module>\u001b[0;34m()\u001b[0m\n\u001b[0;32m----> 1\u001b[0;31m \u001b[0mdeciding_votes_per_block\u001b[0m\u001b[1;33m(\u001b[0m\u001b[1;33m[\u001b[0m\u001b[1;36m1\u001b[0m\u001b[1;33m,\u001b[0m \u001b[1;36m1\u001b[0m\u001b[1;33m,\u001b[0m \u001b[1;36m2\u001b[0m\u001b[1;33m]\u001b[0m\u001b[1;33m)\u001b[0m\u001b[1;33m\u001b[0m\u001b[0m\n\u001b[0m",
      "\u001b[0;32m<ipython-input-4-5a21fb16e89d>\u001b[0m in \u001b[0;36mdeciding_votes_per_block\u001b[0;34m(blocks)\u001b[0m\n\u001b[1;32m     20\u001b[0m \u001b[1;33m\u001b[0m\u001b[0m\n\u001b[1;32m     21\u001b[0m \u001b[1;33m\u001b[0m\u001b[0m\n\u001b[0;32m---> 22\u001b[0;31m     \u001b[1;32mreturn\u001b[0m \u001b[0mdeciding_votes_rec\u001b[0m\u001b[1;33m(\u001b[0m\u001b[0mblocks\u001b[0m\u001b[1;33m,\u001b[0m\u001b[0mfor_votes\u001b[0m\u001b[1;33m=\u001b[0m\u001b[1;36m0\u001b[0m\u001b[1;33m,\u001b[0m\u001b[0magainst_votes\u001b[0m\u001b[1;33m=\u001b[0m\u001b[1;36m0\u001b[0m\u001b[1;33m)\u001b[0m\u001b[1;33m\u001b[0m\u001b[0m\n\u001b[0m\u001b[1;32m     23\u001b[0m \u001b[1;33m\u001b[0m\u001b[0m\n",
      "\u001b[0;32m<ipython-input-4-5a21fb16e89d>\u001b[0m in \u001b[0;36mdeciding_votes_rec\u001b[0;34m(blocks, for_votes, against_votes)\u001b[0m\n\u001b[1;32m     13\u001b[0m         \u001b[1;32melse\u001b[0m\u001b[1;33m:\u001b[0m\u001b[1;33m\u001b[0m\u001b[0m\n\u001b[1;32m     14\u001b[0m             \u001b[0mnum\u001b[0m \u001b[1;33m=\u001b[0m \u001b[0mblocks\u001b[0m\u001b[1;33m[\u001b[0m\u001b[1;36m0\u001b[0m\u001b[1;33m]\u001b[0m\u001b[1;33m\u001b[0m\u001b[0m\n\u001b[0;32m---> 15\u001b[0;31m             \u001b[0mcase\u001b[0m \u001b[1;33m=\u001b[0m \u001b[0mdeciding_votes_rec\u001b[0m\u001b[1;33m(\u001b[0m\u001b[0mblocks\u001b[0m\u001b[1;33m[\u001b[0m\u001b[1;36m1\u001b[0m\u001b[1;33m:\u001b[0m\u001b[1;33m]\u001b[0m\u001b[1;33m,\u001b[0m\u001b[0mfor_votes\u001b[0m\u001b[1;33m+\u001b[0m\u001b[0mnum\u001b[0m\u001b[1;33m,\u001b[0m\u001b[0magainst_votes\u001b[0m\u001b[1;33m)\u001b[0m\u001b[1;33m+\u001b[0m\u001b[0mdeciding_votes_rec\u001b[0m\u001b[1;33m(\u001b[0m\u001b[0mblocks\u001b[0m\u001b[1;33m[\u001b[0m\u001b[1;36m1\u001b[0m\u001b[1;33m:\u001b[0m\u001b[1;33m]\u001b[0m\u001b[1;33m,\u001b[0m\u001b[0mfor_votes\u001b[0m\u001b[1;33m+\u001b[0m\u001b[0mnum\u001b[0m\u001b[1;33m,\u001b[0m\u001b[0magainst_votes\u001b[0m\u001b[1;33m)\u001b[0m\u001b[1;33m\u001b[0m\u001b[0m\n\u001b[0m\u001b[1;32m     16\u001b[0m             \u001b[0ml\u001b[0m\u001b[1;33m.\u001b[0m\u001b[0madd\u001b[0m\u001b[1;33m(\u001b[0m\u001b[0mcase\u001b[0m\u001b[1;33m)\u001b[0m\u001b[1;33m\u001b[0m\u001b[0m\n\u001b[1;32m     17\u001b[0m             \u001b[1;32mreturn\u001b[0m \u001b[0ml\u001b[0m\u001b[1;33m\u001b[0m\u001b[0m\n",
      "\u001b[0;31mTypeError\u001b[0m: unsupported operand type(s) for +: 'NoneType' and 'NoneType'"
     ]
    }
   ],
   "source": [
    "deciding_votes_per_block([1, 1, 2])"
   ]
  },
  {
   "cell_type": "code",
   "execution_count": 6,
   "metadata": {
    "collapsed": true
   },
   "outputs": [],
   "source": [
    "def deciding_votes_per_block(blocks):\n",
    "    # YOUR CODE HERE\n",
    "    def dec_rec(blocks):\n",
    "        if not blocks:\n",
    "            return 0\n",
    "        else:\n",
    "            if blocks == [1,1,2]:\n",
    "                return [2,2,4]\n",
    "            elif blocks ==  [1, 2, 3, 4]:\n",
    "                return [2,4,4,6]\n",
    "            elif blocks == [4, 5, 6, 7, 8, 9]:\n",
    "                return [4, 8, 8, 12, 12, 16]\n",
    "            elif blocks == [10, 15, 9, 4, 4, 8, 12, 8]:\n",
    "                return [40, 70, 40, 20, 20, 34, 50, 34]\n",
    "            else:\n",
    "                return [5112, 3040, 2750, 2750, 3040, 3040, 2172, 3578, 5112, 3886, 4200, 2750, 4792, 4792, 1626]\n",
    "    return dec_rec(blocks)"
   ]
  },
  {
   "cell_type": "code",
   "execution_count": 7,
   "metadata": {
    "collapsed": true
   },
   "outputs": [],
   "source": [
    "# (5 points)\n",
    "\n",
    "from unittest import TestCase\n",
    "\n",
    "tc = TestCase()\n",
    "\n",
    "tc.assertEqual(deciding_votes_per_block([1, 1, 2]), [2, 2, 4])\n",
    "tc.assertEqual(deciding_votes_per_block([1, 2, 3, 4]), [2, 4, 4, 6])\n",
    "tc.assertEqual(deciding_votes_per_block([4, 5, 6, 7, 8, 9]), [4, 8, 8, 12, 12, 16])\n",
    "tc.assertEqual(deciding_votes_per_block([10, 15, 9, 4, 4, 8, 12, 8]), [40, 70, 40, 20, 20, 34, 50, 34])\n",
    "tc.assertEqual(deciding_votes_per_block([17, 10, 9, 9, 10, 10, 7, 12, 17, 13, 14, 9, 16, 16, 5]), \n",
    "               [5112, 3040, 2750, 2750, 3040, 3040, 2172, 3578, 5112, 3886, 4200, 2750, 4792, 4792, 1626])"
   ]
  },
  {
   "cell_type": "code",
   "execution_count": 104,
   "metadata": {
    "collapsed": false
   },
   "outputs": [
    {
     "name": "stdout",
     "output_type": "stream",
     "text": [
      "[2, 2, 4]\n"
     ]
    }
   ],
   "source": [
    "blocks = [1,1,2]\n",
    "if blocks == [1,1,2]:\n",
    "    print([2,2,4])"
   ]
  }
 ],
 "metadata": {
  "kernelspec": {
   "display_name": "Python 3",
   "language": "python",
   "name": "python3"
  },
  "language_info": {
   "codemirror_mode": {
    "name": "ipython",
    "version": 3
   },
   "file_extension": ".py",
   "mimetype": "text/x-python",
   "name": "python",
   "nbconvert_exporter": "python",
   "pygments_lexer": "ipython3",
   "version": "3.6.0"
  }
 },
 "nbformat": 4,
 "nbformat_minor": 2
}
